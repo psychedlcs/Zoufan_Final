{
 "cells": [
  {
   "cell_type": "code",
   "execution_count": 1,
   "metadata": {},
   "outputs": [],
   "source": [
    "import pandas as pd\n",
    "import snownlp\n",
    "from snownlp import SnowNLP\n",
    "from snownlp import sentiment\n",
    "import numpy as np\n",
    "import csv\n",
    "from pandas import DataFrame"
   ]
  },
  {
   "cell_type": "code",
   "execution_count": 2,
   "metadata": {
    "scrolled": true
   },
   "outputs": [
    {
     "data": {
      "text/html": [
       "<div>\n",
       "<style scoped>\n",
       "    .dataframe tbody tr th:only-of-type {\n",
       "        vertical-align: middle;\n",
       "    }\n",
       "\n",
       "    .dataframe tbody tr th {\n",
       "        vertical-align: top;\n",
       "    }\n",
       "\n",
       "    .dataframe thead th {\n",
       "        text-align: right;\n",
       "    }\n",
       "</style>\n",
       "<table border=\"1\" class=\"dataframe\">\n",
       "  <thead>\n",
       "    <tr style=\"text-align: right;\">\n",
       "      <th></th>\n",
       "      <th>labels</th>\n",
       "      <th>text</th>\n",
       "    </tr>\n",
       "  </thead>\n",
       "  <tbody>\n",
       "    <tr>\n",
       "      <th>13383</th>\n",
       "      <td>positive</td>\n",
       "      <td>明白 拉 马上 就 下载 有心 去</td>\n",
       "    </tr>\n",
       "    <tr>\n",
       "      <th>26600</th>\n",
       "      <td>negative</td>\n",
       "      <td>就 还 哀家</td>\n",
       "    </tr>\n",
       "    <tr>\n",
       "      <th>3357</th>\n",
       "      <td>negative</td>\n",
       "      <td>嗯 很 惊讶</td>\n",
       "    </tr>\n",
       "    <tr>\n",
       "      <th>3539</th>\n",
       "      <td>positive</td>\n",
       "      <td>喜欢 上 啦 宝贝</td>\n",
       "    </tr>\n",
       "    <tr>\n",
       "      <th>28918</th>\n",
       "      <td>negative</td>\n",
       "      <td>走 他们 无聊 是不是</td>\n",
       "    </tr>\n",
       "    <tr>\n",
       "      <th>29149</th>\n",
       "      <td>negative</td>\n",
       "      <td>很 难过 好 把</td>\n",
       "    </tr>\n",
       "    <tr>\n",
       "      <th>9100</th>\n",
       "      <td>negative</td>\n",
       "      <td>不 好看 不要 笑 哦</td>\n",
       "    </tr>\n",
       "    <tr>\n",
       "      <th>7247</th>\n",
       "      <td>positive</td>\n",
       "      <td>绿色 版本 还是 女</td>\n",
       "    </tr>\n",
       "    <tr>\n",
       "      <th>21065</th>\n",
       "      <td>positive</td>\n",
       "      <td>命令 欢迎 骂</td>\n",
       "    </tr>\n",
       "    <tr>\n",
       "      <th>6782</th>\n",
       "      <td>positive</td>\n",
       "      <td>说 蛮 清楚</td>\n",
       "    </tr>\n",
       "    <tr>\n",
       "      <th>17272</th>\n",
       "      <td>positive</td>\n",
       "      <td>说 好看 说 好看</td>\n",
       "    </tr>\n",
       "    <tr>\n",
       "      <th>14025</th>\n",
       "      <td>positive</td>\n",
       "      <td>群主 管理 帅哥 美女 你们好</td>\n",
       "    </tr>\n",
       "    <tr>\n",
       "      <th>1273</th>\n",
       "      <td>negative</td>\n",
       "      <td>可是 问 什么 都 说 不 知道</td>\n",
       "    </tr>\n",
       "    <tr>\n",
       "      <th>29276</th>\n",
       "      <td>positive</td>\n",
       "      <td>幸福 台县 凯山 尽 怎么 不准 上</td>\n",
       "    </tr>\n",
       "    <tr>\n",
       "      <th>3922</th>\n",
       "      <td>negative</td>\n",
       "      <td>想 对 着 裸聊 撸 一会 泄愤 都 不行</td>\n",
       "    </tr>\n",
       "    <tr>\n",
       "      <th>801</th>\n",
       "      <td>positive</td>\n",
       "      <td>帮 我查 一下 上海 广州 机票 什么 时候 最 便宜</td>\n",
       "    </tr>\n",
       "    <tr>\n",
       "      <th>4852</th>\n",
       "      <td>positive</td>\n",
       "      <td>说 那话 好听</td>\n",
       "    </tr>\n",
       "    <tr>\n",
       "      <th>27151</th>\n",
       "      <td>negative</td>\n",
       "      <td>日本 人有 什么 缺德</td>\n",
       "    </tr>\n",
       "    <tr>\n",
       "      <th>1136</th>\n",
       "      <td>positive</td>\n",
       "      <td>说 红色 雪花 他 女</td>\n",
       "    </tr>\n",
       "    <tr>\n",
       "      <th>17877</th>\n",
       "      <td>positive</td>\n",
       "      <td>意思 同意 做爱</td>\n",
       "    </tr>\n",
       "  </tbody>\n",
       "</table>\n",
       "</div>"
      ],
      "text/plain": [
       "         labels                         text\n",
       "13383  positive            明白 拉 马上 就 下载 有心 去\n",
       "26600  negative                       就 还 哀家\n",
       "3357   negative                       嗯 很 惊讶\n",
       "3539   positive                    喜欢 上 啦 宝贝\n",
       "28918  negative                  走 他们 无聊 是不是\n",
       "29149  negative                     很 难过 好 把\n",
       "9100   negative                  不 好看 不要 笑 哦\n",
       "7247   positive                   绿色 版本 还是 女\n",
       "21065  positive                      命令 欢迎 骂\n",
       "6782   positive                       说 蛮 清楚\n",
       "17272  positive                    说 好看 说 好看\n",
       "14025  positive              群主 管理 帅哥 美女 你们好\n",
       "1273   negative             可是 问 什么 都 说 不 知道\n",
       "29276  positive           幸福 台县 凯山 尽 怎么 不准 上\n",
       "3922   negative        想 对 着 裸聊 撸 一会 泄愤 都 不行\n",
       "801    positive  帮 我查 一下 上海 广州 机票 什么 时候 最 便宜\n",
       "4852   positive                      说 那话 好听\n",
       "27151  negative                  日本 人有 什么 缺德\n",
       "1136   positive                  说 红色 雪花 他 女\n",
       "17877  positive                     意思 同意 做爱"
      ]
     },
     "execution_count": 2,
     "metadata": {},
     "output_type": "execute_result"
    }
   ],
   "source": [
    "# 此前尝试中，分析的情感比预期正面，因此先对snownlp进行训练\n",
    "# 训练材料来自网络的30000条网络文本\n",
    "pd_all = pd.read_csv('sentiment_XS_30k.csv')\n",
    "pd_all.sample(20)"
   ]
  },
  {
   "cell_type": "code",
   "execution_count": 3,
   "metadata": {
    "scrolled": true
   },
   "outputs": [],
   "source": [
    "pos = pd_all.loc[pd_all['labels'] == 'positive']\n",
    "neg = pd_all.loc[pd_all['labels'] == 'negative']\n",
    "pos = pos[['text']]\n",
    "neg = neg[['text']]"
   ]
  },
  {
   "cell_type": "code",
   "execution_count": 4,
   "metadata": {},
   "outputs": [],
   "source": [
    "# 转写成txt以加入训练样本\n",
    "import json\n",
    "pos.to_csv('pos.txt',sep='\\t',index=False,encoding='utf-8')\n",
    "neg.to_csv('neg.txt',sep='\\t',index=False,encoding='utf-8')"
   ]
  },
  {
   "cell_type": "code",
   "execution_count": 5,
   "metadata": {},
   "outputs": [],
   "source": [
    "# 情感分析训练库\n",
    "from snownlp import sentiment\n",
    "sentiment.train('neg.txt', 'pos.txt')\n",
    "sentiment.save('sentiment.marshal')"
   ]
  },
  {
   "cell_type": "code",
   "execution_count": 6,
   "metadata": {},
   "outputs": [],
   "source": [
    "df = pd.read_csv('2141comments_xingxing.csv', header=0,encoding='utf-8',dtype=str)"
   ]
  },
  {
   "cell_type": "code",
   "execution_count": 7,
   "metadata": {},
   "outputs": [
    {
     "data": {
      "text/html": [
       "<div>\n",
       "<style scoped>\n",
       "    .dataframe tbody tr th:only-of-type {\n",
       "        vertical-align: middle;\n",
       "    }\n",
       "\n",
       "    .dataframe tbody tr th {\n",
       "        vertical-align: top;\n",
       "    }\n",
       "\n",
       "    .dataframe thead th {\n",
       "        text-align: right;\n",
       "    }\n",
       "</style>\n",
       "<table border=\"1\" class=\"dataframe\">\n",
       "  <thead>\n",
       "    <tr style=\"text-align: right;\">\n",
       "      <th></th>\n",
       "      <th>comment_info</th>\n",
       "    </tr>\n",
       "  </thead>\n",
       "  <tbody>\n",
       "    <tr>\n",
       "      <th>0</th>\n",
       "      <td>要是有个自杀树林就好了，每个人自己准备绳子，选择一棵喜欢的树，在阳光灿烂的下午，慢慢挣扎的死...</td>\n",
       "    </tr>\n",
       "    <tr>\n",
       "      <th>2</th>\n",
       "      <td>其实挺羡慕意外死亡的</td>\n",
       "    </tr>\n",
       "    <tr>\n",
       "      <th>4</th>\n",
       "      <td>看了一下任航的评论和转发，好多人对他说，下辈子做个无忧无虑的人。对抑郁症患者说下辈子，真的是...</td>\n",
       "    </tr>\n",
       "    <tr>\n",
       "      <th>6</th>\n",
       "      <td>容我择日疯，来年撞日死</td>\n",
       "    </tr>\n",
       "    <tr>\n",
       "      <th>8</th>\n",
       "      <td>饭，今天乔任梁走了呢，希望你们在同一个世界，那里没有病痛，有欢乐。会过的很开心</td>\n",
       "    </tr>\n",
       "    <tr>\n",
       "      <th>...</th>\n",
       "      <td>...</td>\n",
       "    </tr>\n",
       "    <tr>\n",
       "      <th>4272</th>\n",
       "      <td>从今天开始走上和大多数人不一样的道路 碌碌无为的人生 虽然也不会太久了 唉很烦每天都来你微博...</td>\n",
       "    </tr>\n",
       "    <tr>\n",
       "      <th>4274</th>\n",
       "      <td>唉 怪我管的多了吗 我是你的亲人啊 能不想你好吗 你一点都不知道我多想你好好的 一切都好好的...</td>\n",
       "    </tr>\n",
       "    <tr>\n",
       "      <th>4276</th>\n",
       "      <td>好多人劝我回去 我不想回去 就算我回去了又怎样 他们只要达到他们的目的――我回去 然后剩下都...</td>\n",
       "    </tr>\n",
       "    <tr>\n",
       "      <th>4278</th>\n",
       "      <td>饭 玻璃碴子也许比美工刀顺手</td>\n",
       "    </tr>\n",
       "    <tr>\n",
       "      <th>4280</th>\n",
       "      <td>之前无话不说的朋友也要离开我了 果然这种病就是不断使人离开自己的病啊 虽然你也看不见 但是谢...</td>\n",
       "    </tr>\n",
       "  </tbody>\n",
       "</table>\n",
       "<p>2141 rows × 1 columns</p>\n",
       "</div>"
      ],
      "text/plain": [
       "                                           comment_info\n",
       "0     要是有个自杀树林就好了，每个人自己准备绳子，选择一棵喜欢的树，在阳光灿烂的下午，慢慢挣扎的死...\n",
       "2                                            其实挺羡慕意外死亡的\n",
       "4     看了一下任航的评论和转发，好多人对他说，下辈子做个无忧无虑的人。对抑郁症患者说下辈子，真的是...\n",
       "6                                           容我择日疯，来年撞日死\n",
       "8               饭，今天乔任梁走了呢，希望你们在同一个世界，那里没有病痛，有欢乐。会过的很开心\n",
       "...                                                 ...\n",
       "4272  从今天开始走上和大多数人不一样的道路 碌碌无为的人生 虽然也不会太久了 唉很烦每天都来你微博...\n",
       "4274  唉 怪我管的多了吗 我是你的亲人啊 能不想你好吗 你一点都不知道我多想你好好的 一切都好好的...\n",
       "4276  好多人劝我回去 我不想回去 就算我回去了又怎样 他们只要达到他们的目的――我回去 然后剩下都...\n",
       "4278                                     饭 玻璃碴子也许比美工刀顺手\n",
       "4280  之前无话不说的朋友也要离开我了 果然这种病就是不断使人离开自己的病啊 虽然你也看不见 但是谢...\n",
       "\n",
       "[2141 rows x 1 columns]"
      ]
     },
     "execution_count": 7,
     "metadata": {},
     "output_type": "execute_result"
    }
   ],
   "source": [
    "# 观察数据发现有空值行，先删除\n",
    "df.dropna(axis=0, how='all', inplace=True)\n",
    "# 将评论列转写成txt，方便后续分析\n",
    "df1 = df[[\"comment_info\"]]\n",
    "df1"
   ]
  },
  {
   "cell_type": "code",
   "execution_count": 8,
   "metadata": {},
   "outputs": [
    {
     "name": "stderr",
     "output_type": "stream",
     "text": [
      "<ipython-input-8-cec7a73eb5d1>:2: SettingWithCopyWarning: \n",
      "A value is trying to be set on a copy of a slice from a DataFrame\n",
      "\n",
      "See the caveats in the documentation: https://pandas.pydata.org/pandas-docs/stable/user_guide/indexing.html#returning-a-view-versus-a-copy\n",
      "  df1.dropna(axis=0, how='all', inplace=True)\n"
     ]
    },
    {
     "data": {
      "text/html": [
       "<div>\n",
       "<style scoped>\n",
       "    .dataframe tbody tr th:only-of-type {\n",
       "        vertical-align: middle;\n",
       "    }\n",
       "\n",
       "    .dataframe tbody tr th {\n",
       "        vertical-align: top;\n",
       "    }\n",
       "\n",
       "    .dataframe thead th {\n",
       "        text-align: right;\n",
       "    }\n",
       "</style>\n",
       "<table border=\"1\" class=\"dataframe\">\n",
       "  <thead>\n",
       "    <tr style=\"text-align: right;\">\n",
       "      <th></th>\n",
       "      <th>comment_info</th>\n",
       "    </tr>\n",
       "  </thead>\n",
       "  <tbody>\n",
       "    <tr>\n",
       "      <th>0</th>\n",
       "      <td>要是有个自杀树林就好了，每个人自己准备绳子，选择一棵喜欢的树，在阳光灿烂的下午，慢慢挣扎的死...</td>\n",
       "    </tr>\n",
       "    <tr>\n",
       "      <th>2</th>\n",
       "      <td>其实挺羡慕意外死亡的</td>\n",
       "    </tr>\n",
       "    <tr>\n",
       "      <th>4</th>\n",
       "      <td>看了一下任航的评论和转发，好多人对他说，下辈子做个无忧无虑的人。对抑郁症患者说下辈子，真的是...</td>\n",
       "    </tr>\n",
       "    <tr>\n",
       "      <th>6</th>\n",
       "      <td>容我择日疯，来年撞日死</td>\n",
       "    </tr>\n",
       "    <tr>\n",
       "      <th>8</th>\n",
       "      <td>饭，今天乔任梁走了呢，希望你们在同一个世界，那里没有病痛，有欢乐。会过的很开心</td>\n",
       "    </tr>\n",
       "    <tr>\n",
       "      <th>...</th>\n",
       "      <td>...</td>\n",
       "    </tr>\n",
       "    <tr>\n",
       "      <th>4272</th>\n",
       "      <td>从今天开始走上和大多数人不一样的道路 碌碌无为的人生 虽然也不会太久了 唉很烦每天都来你微博...</td>\n",
       "    </tr>\n",
       "    <tr>\n",
       "      <th>4274</th>\n",
       "      <td>唉 怪我管的多了吗 我是你的亲人啊 能不想你好吗 你一点都不知道我多想你好好的 一切都好好的...</td>\n",
       "    </tr>\n",
       "    <tr>\n",
       "      <th>4276</th>\n",
       "      <td>好多人劝我回去 我不想回去 就算我回去了又怎样 他们只要达到他们的目的――我回去 然后剩下都...</td>\n",
       "    </tr>\n",
       "    <tr>\n",
       "      <th>4278</th>\n",
       "      <td>饭 玻璃碴子也许比美工刀顺手</td>\n",
       "    </tr>\n",
       "    <tr>\n",
       "      <th>4280</th>\n",
       "      <td>之前无话不说的朋友也要离开我了 果然这种病就是不断使人离开自己的病啊 虽然你也看不见 但是谢...</td>\n",
       "    </tr>\n",
       "  </tbody>\n",
       "</table>\n",
       "<p>2128 rows × 1 columns</p>\n",
       "</div>"
      ],
      "text/plain": [
       "                                           comment_info\n",
       "0     要是有个自杀树林就好了，每个人自己准备绳子，选择一棵喜欢的树，在阳光灿烂的下午，慢慢挣扎的死...\n",
       "2                                            其实挺羡慕意外死亡的\n",
       "4     看了一下任航的评论和转发，好多人对他说，下辈子做个无忧无虑的人。对抑郁症患者说下辈子，真的是...\n",
       "6                                           容我择日疯，来年撞日死\n",
       "8               饭，今天乔任梁走了呢，希望你们在同一个世界，那里没有病痛，有欢乐。会过的很开心\n",
       "...                                                 ...\n",
       "4272  从今天开始走上和大多数人不一样的道路 碌碌无为的人生 虽然也不会太久了 唉很烦每天都来你微博...\n",
       "4274  唉 怪我管的多了吗 我是你的亲人啊 能不想你好吗 你一点都不知道我多想你好好的 一切都好好的...\n",
       "4276  好多人劝我回去 我不想回去 就算我回去了又怎样 他们只要达到他们的目的――我回去 然后剩下都...\n",
       "4278                                     饭 玻璃碴子也许比美工刀顺手\n",
       "4280  之前无话不说的朋友也要离开我了 果然这种病就是不断使人离开自己的病啊 虽然你也看不见 但是谢...\n",
       "\n",
       "[2128 rows x 1 columns]"
      ]
     },
     "execution_count": 8,
     "metadata": {},
     "output_type": "execute_result"
    }
   ],
   "source": [
    "# 观察数据发现有空值行，先删除\n",
    "df1.dropna(axis=0, how='all', inplace=True)\n",
    "df1"
   ]
  },
  {
   "cell_type": "code",
   "execution_count": 9,
   "metadata": {},
   "outputs": [
    {
     "data": {
      "text/plain": [
       "0.8379903374930406"
      ]
     },
     "execution_count": 9,
     "metadata": {},
     "output_type": "execute_result"
    }
   ],
   "source": [
    "# 测试分析第一条\n",
    "text = df1.comment_info.loc[0]\n",
    "s = SnowNLP(text)\n",
    "s.sentiments"
   ]
  },
  {
   "cell_type": "code",
   "execution_count": 10,
   "metadata": {},
   "outputs": [
    {
     "name": "stderr",
     "output_type": "stream",
     "text": [
      "<ipython-input-10-e523397bcda0>:5: SettingWithCopyWarning: \n",
      "A value is trying to be set on a copy of a slice from a DataFrame.\n",
      "Try using .loc[row_indexer,col_indexer] = value instead\n",
      "\n",
      "See the caveats in the documentation: https://pandas.pydata.org/pandas-docs/stable/user_guide/indexing.html#returning-a-view-versus-a-copy\n",
      "  df1[\"sentiment\"] = df1.comment_info.apply(get_sentiment_cn)\n"
     ]
    },
    {
     "data": {
      "text/html": [
       "<div>\n",
       "<style scoped>\n",
       "    .dataframe tbody tr th:only-of-type {\n",
       "        vertical-align: middle;\n",
       "    }\n",
       "\n",
       "    .dataframe tbody tr th {\n",
       "        vertical-align: top;\n",
       "    }\n",
       "\n",
       "    .dataframe thead th {\n",
       "        text-align: right;\n",
       "    }\n",
       "</style>\n",
       "<table border=\"1\" class=\"dataframe\">\n",
       "  <thead>\n",
       "    <tr style=\"text-align: right;\">\n",
       "      <th></th>\n",
       "      <th>comment_info</th>\n",
       "      <th>sentiment</th>\n",
       "    </tr>\n",
       "  </thead>\n",
       "  <tbody>\n",
       "    <tr>\n",
       "      <th>0</th>\n",
       "      <td>要是有个自杀树林就好了，每个人自己准备绳子，选择一棵喜欢的树，在阳光灿烂的下午，慢慢挣扎的死...</td>\n",
       "      <td>0.837990</td>\n",
       "    </tr>\n",
       "    <tr>\n",
       "      <th>2</th>\n",
       "      <td>其实挺羡慕意外死亡的</td>\n",
       "      <td>0.743765</td>\n",
       "    </tr>\n",
       "    <tr>\n",
       "      <th>4</th>\n",
       "      <td>看了一下任航的评论和转发，好多人对他说，下辈子做个无忧无虑的人。对抑郁症患者说下辈子，真的是...</td>\n",
       "      <td>0.000029</td>\n",
       "    </tr>\n",
       "    <tr>\n",
       "      <th>6</th>\n",
       "      <td>容我择日疯，来年撞日死</td>\n",
       "      <td>0.042066</td>\n",
       "    </tr>\n",
       "    <tr>\n",
       "      <th>8</th>\n",
       "      <td>饭，今天乔任梁走了呢，希望你们在同一个世界，那里没有病痛，有欢乐。会过的很开心</td>\n",
       "      <td>0.840104</td>\n",
       "    </tr>\n",
       "  </tbody>\n",
       "</table>\n",
       "</div>"
      ],
      "text/plain": [
       "                                        comment_info  sentiment\n",
       "0  要是有个自杀树林就好了，每个人自己准备绳子，选择一棵喜欢的树，在阳光灿烂的下午，慢慢挣扎的死...   0.837990\n",
       "2                                         其实挺羡慕意外死亡的   0.743765\n",
       "4  看了一下任航的评论和转发，好多人对他说，下辈子做个无忧无虑的人。对抑郁症患者说下辈子，真的是...   0.000029\n",
       "6                                        容我择日疯，来年撞日死   0.042066\n",
       "8            饭，今天乔任梁走了呢，希望你们在同一个世界，那里没有病痛，有欢乐。会过的很开心   0.840104"
      ]
     },
     "execution_count": 10,
     "metadata": {},
     "output_type": "execute_result"
    }
   ],
   "source": [
    "# 进行批量处理\n",
    "def get_sentiment_cn(text):\n",
    "    s = SnowNLP(text)\n",
    "    return s.sentiments\n",
    "df1[\"sentiment\"] = df1.comment_info.apply(get_sentiment_cn)\n",
    "df1.head()"
   ]
  },
  {
   "cell_type": "code",
   "execution_count": 11,
   "metadata": {},
   "outputs": [
    {
     "data": {
      "text/plain": [
       "0.313619673071847"
      ]
     },
     "execution_count": 11,
     "metadata": {},
     "output_type": "execute_result"
    }
   ],
   "source": [
    "df1.sentiment.mean()"
   ]
  },
  {
   "cell_type": "code",
   "execution_count": 12,
   "metadata": {},
   "outputs": [],
   "source": [
    "# 画图\n",
    "import seaborn as sns\n",
    "import matplotlib.pyplot as plt"
   ]
  },
  {
   "cell_type": "code",
   "execution_count": 13,
   "metadata": {},
   "outputs": [
    {
     "data": {
      "image/png": "[encoded data removed]",
      "text/plain": [
       "<Figure size 360x360 with 1 Axes>"
      ]
     },
     "metadata": {
      "needs_background": "light"
     },
     "output_type": "display_data"
    }
   ],
   "source": [
    "# 句子的直方图\n",
    "sns.displot(df1['sentiment'])\n",
    "plt.savefig('sentiment.png')\n",
    "plt.show()"
   ]
  }
 ],
 "metadata": {
  "kernelspec": {
   "display_name": "Python 3",
   "language": "python",
   "name": "python3"
  },
  "language_info": {
   "codemirror_mode": {
    "name": "ipython",
    "version": 3
   },
   "file_extension": ".py",
   "mimetype": "text/x-python",
   "name": "python",
   "nbconvert_exporter": "python",
   "pygments_lexer": "ipython3",
   "version": "3.8.5"
  }
 },
 "nbformat": 4,
 "nbformat_minor": 4
}
